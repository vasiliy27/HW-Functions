{
 "cells": [
  {
   "cell_type": "code",
   "execution_count": 1,
   "id": "266319fc",
   "metadata": {},
   "outputs": [],
   "source": [
    "!pip install -q -U kaggle_environments"
   ]
  },
  {
   "cell_type": "code",
   "execution_count": 2,
   "id": "560612b9",
   "metadata": {},
   "outputs": [
    {
     "name": "stdout",
     "output_type": "stream",
     "text": [
      "Loading environment lux_ai_2022 failed: No module named 'vec_noise'\n"
     ]
    }
   ],
   "source": [
    "import numpy as np\n",
    "import pandas as pd\n",
    "import random\n",
    "\n",
    "import matplotlib.pyplot as plt\n",
    "import seaborn as sns\n",
    "\n",
    "from kaggle_environments import make, evaluate"
   ]
  },
  {
   "cell_type": "code",
   "execution_count": 3,
   "id": "4a4a365e",
   "metadata": {},
   "outputs": [
    {
     "data": {
      "text/plain": [
       "'\\nСтратегии для агентов:\\n1) Только камень\\n2) Только бумага\\n3) Только ножницы\\n4) Рандом\\n\\n5) Только камень, а после то, что использовал оппонент \\n6) Только ножницы, а после то, что использовал оппонент\\n7) Только бумага, а после то, что использовал оппонент\\n8) Рандом, а после то, что использовал оппонент\\n\\n9) Камень, если оппонент использовал камень то бумагу в следующем раунде\\n10) Бумага, если оппонент использовал бумагу то ножницы в следующем раунде\\n11) Ножницы, если оппонент использовал ножницы то камень в следующем раунде\\n12) Рандом, если оппонент использовал ножницы то камень в следующем раунде\\n\\n'"
      ]
     },
     "execution_count": 3,
     "metadata": {},
     "output_type": "execute_result"
    }
   ],
   "source": [
    "'''\n",
    "Вывод по агентам в конце!!!\n",
    "\n",
    "'''"
   ]
  },
  {
   "cell_type": "code",
   "execution_count": 4,
   "id": "796fac71",
   "metadata": {},
   "outputs": [
    {
     "name": "stdout",
     "output_type": "stream",
     "text": [
      "Overwriting rock_agent.py\n"
     ]
    }
   ],
   "source": [
    "%%writefile rock_agent.py\n",
    "\n",
    "def rock_agent(observation, configuration):\n",
    "    #Только камень\n",
    "    return 0"
   ]
  },
  {
   "cell_type": "code",
   "execution_count": 5,
   "id": "36a8b69d",
   "metadata": {},
   "outputs": [
    {
     "name": "stdout",
     "output_type": "stream",
     "text": [
      "Overwriting paper_agent.py\n"
     ]
    }
   ],
   "source": [
    "%%writefile paper_agent.py\n",
    "\n",
    "def paper_agent(observation, configuration):\n",
    "    #Только бумага\n",
    "    return 1"
   ]
  },
  {
   "cell_type": "code",
   "execution_count": 6,
   "id": "0ca49c28",
   "metadata": {},
   "outputs": [
    {
     "name": "stdout",
     "output_type": "stream",
     "text": [
      "Overwriting scissors_agent.py\n"
     ]
    }
   ],
   "source": [
    "%%writefile scissors_agent.py\n",
    "\n",
    "def scissors_agent(observation, configuration):\n",
    "    #Только ножницы\n",
    "    return 2"
   ]
  },
  {
   "cell_type": "code",
   "execution_count": 7,
   "id": "2025138a",
   "metadata": {},
   "outputs": [
    {
     "name": "stdout",
     "output_type": "stream",
     "text": [
      "Overwriting random_agent.py\n"
     ]
    }
   ],
   "source": [
    "%%writefile random_agent.py\n",
    "\n",
    "def random_agent(observation, configuration):\n",
    "    #Только random\n",
    "    import random\n",
    "    return random.randrange(0, 3)"
   ]
  },
  {
   "cell_type": "code",
   "execution_count": 69,
   "id": "8db258ac",
   "metadata": {},
   "outputs": [
    {
     "name": "stdout",
     "output_type": "stream",
     "text": [
      "Overwriting copy_opponent.py\n"
     ]
    }
   ],
   "source": [
    "%%writefile copy_opponent.py\n",
    "\n",
    "#Example \n",
    "def copy_opponent(observation, configuration):\n",
    "    import random\n",
    "    #Копирует предыдущий шаг оппонента\n",
    "    if observation.step > 0:\n",
    "        return observation.lastOpponentAction\n",
    "    #initial step\n",
    "    else:\n",
    "        return random.randrange(0, configuration.signs)"
   ]
  },
  {
   "cell_type": "code",
   "execution_count": 11,
   "id": "c9c2094b",
   "metadata": {},
   "outputs": [
    {
     "name": "stdout",
     "output_type": "stream",
     "text": [
      "Overwriting statistical.py\n"
     ]
    }
   ],
   "source": [
    "%%writefile statistical.py\n",
    "\n",
    "def statistical(observation, configuration):\n",
    "    global action_histogram\n",
    "    if observation.step == 0:\n",
    "        action_histogram = {}\n",
    "        return\n",
    "    action = observation.lastOpponentAction\n",
    "    if action not in action_histogram:\n",
    "        action_histogram[action] = 0\n",
    "    action_histogram[action] += 1\n",
    "    mode_action = None\n",
    "    mode_action_count = None\n",
    "    for k, v in action_histogram.items():\n",
    "        if mode_action_count is None or v > mode_action_count:\n",
    "            mode_action = k\n",
    "            mode_action_count = v\n",
    "            continue\n",
    "\n",
    "    return (mode_action + 1) % configuration.signs\n"
   ]
  },
  {
   "cell_type": "code",
   "execution_count": 12,
   "id": "9214b643",
   "metadata": {},
   "outputs": [
    {
     "name": "stdout",
     "output_type": "stream",
     "text": [
      "Overwriting shuffle_agent.py\n"
     ]
    }
   ],
   "source": [
    "%%writefile shuffle_agent.py\n",
    "shuffle_count = 0\n",
    "def shuffle_agent(observation, configuration):\n",
    "    #Перебирает варианты боя по очереди, начиная с камня\n",
    "    global shuffle_count\n",
    "    if shuffle_count == 0:\n",
    "        shuffle_count += 1\n",
    "        return 0\n",
    "    elif shuffle_count == 1:\n",
    "        shuffle_count += 1\n",
    "        return 1\n",
    "    elif shuffle_count == 2:\n",
    "        shuffle_count = 0\n",
    "        return 2\n",
    "            "
   ]
  },
  {
   "cell_type": "code",
   "execution_count": 13,
   "id": "681e7c83",
   "metadata": {},
   "outputs": [
    {
     "name": "stdout",
     "output_type": "stream",
     "text": [
      "Overwriting oppose_agent.py\n"
     ]
    }
   ],
   "source": [
    "%%writefile oppose_agent.py\n",
    "\n",
    "#Example \n",
    "def oppose_agent(observation, configuration):\n",
    "    #Oтличное от оппонента\n",
    "    import random\n",
    "    if observation.step > 0:\n",
    "        if observation.lastOpponentAction == 0:\n",
    "            return random.choice([1,2])\n",
    "        elif observation.lastOpponentAction == 1:\n",
    "            return random.choice([0,2])\n",
    "        elif observation.lastOpponentAction == 2:\n",
    "            return random.choice([0,1])\n",
    "    else:\n",
    "        return random.randrange(0, 3)"
   ]
  },
  {
   "cell_type": "code",
   "execution_count": 21,
   "id": "4a2d8923",
   "metadata": {},
   "outputs": [
    {
     "name": "stdout",
     "output_type": "stream",
     "text": [
      "Writing anti_shuffle_agent.py\n"
     ]
    }
   ],
   "source": [
    "%%writefile anti_shuffle_agent.py\n",
    "\n",
    "#Example \n",
    "def anti_shuffle_agent(observation, configuration):\n",
    "    #Стратегия чтобы побить shuffle_agent.py\n",
    "    import random\n",
    "    if observation.step > 0:\n",
    "        if observation.lastOpponentAction == 0:\n",
    "            return 2\n",
    "        elif observation.lastOpponentAction == 1:\n",
    "            return 0\n",
    "        elif observation.lastOpponentAction == 2:\n",
    "            return 1\n",
    "    else:\n",
    "        return 1"
   ]
  },
  {
   "cell_type": "code",
   "execution_count": 23,
   "id": "56f96796",
   "metadata": {},
   "outputs": [
    {
     "name": "stdout",
     "output_type": "stream",
     "text": [
      "Writing reverse_shuffle_agent.py\n"
     ]
    }
   ],
   "source": [
    "%%writefile reverse_shuffle_agent.py\n",
    "reverse_shuffle_count = 2\n",
    "def shuffle_agent(observation, configuration):\n",
    "    #Перебирает варианты боя в обратной очереди, начиная с ножниц\n",
    "    global reverse_shuffle_count\n",
    "    if reverse_shuffle_count == 2:\n",
    "        reverse_shuffle_count -= 1\n",
    "        return 2\n",
    "    elif reverse_shuffle_count == 1:\n",
    "        reverse_shuffle_count -= 1\n",
    "        return 1\n",
    "    elif reverse_shuffle_count == 0:\n",
    "        reverse_shuffle_count += 2\n",
    "        return 0"
   ]
  },
  {
   "cell_type": "code",
   "execution_count": 27,
   "id": "4272d807",
   "metadata": {},
   "outputs": [
    {
     "name": "stdout",
     "output_type": "stream",
     "text": [
      "Writing alt_random_agent.py\n"
     ]
    }
   ],
   "source": [
    "%%writefile alt_random_agent.py\n",
    "\n",
    "def alt_random_agent(observation, configuration):\n",
    "    #Альтернативная реализация рандома через метод choice\n",
    "    import random\n",
    "    return random.choice([0,1,2])"
   ]
  },
  {
   "cell_type": "code",
   "execution_count": 30,
   "id": "5628d708",
   "metadata": {},
   "outputs": [
    {
     "name": "stdout",
     "output_type": "stream",
     "text": [
      "Writing loser_agent.py\n"
     ]
    }
   ],
   "source": [
    "%%writefile loser_agent.py\n",
    "\n",
    "#Example \n",
    "def loser_agent(observation, configuration):\n",
    "    #Попытка проиграть специально\n",
    "    import random\n",
    "    if observation.step > 0:\n",
    "        if observation.lastOpponentAction == 0:\n",
    "            return 2\n",
    "        elif observation.lastOpponentAction == 1:\n",
    "            return 0\n",
    "        elif observation.lastOpponentAction == 2:\n",
    "            return 1\n",
    "    else:\n",
    "        return random.choice([0,1,2])"
   ]
  },
  {
   "cell_type": "code",
   "execution_count": 67,
   "id": "4a4a0faa",
   "metadata": {},
   "outputs": [
    {
     "name": "stdout",
     "output_type": "stream",
     "text": [
      "[0, -999.0, 999.0, 0, 997.0, 1, 999.0, 51.0, 0, 0, 0, -998.0]\n",
      "12\n"
     ]
    }
   ],
   "source": [
    "agent_list = ['rock_agent.py', 'paper_agent.py', 'scissors_agent.py', 'alt_random_agent.py', 'anti_shuffle_agent.py',\n",
    "             'copy_opponent.py', 'loser_agent.py', 'oppose_agent.py', 'random_agent.py', 'reverse_shuffle_agent.py',\n",
    "             'shuffle_agent.py', 'statistical.py']\n",
    "rock_agent_res = []\n",
    "for i in range(len(agent_list)):\n",
    "    if i < 12:\n",
    "        rock_agent_res.append(evaluate(\n",
    "        \"rps\", #environment to use - no need to change\n",
    "        [agent_list[0], agent_list[0+i]], #agents to evaluate\n",
    "        configuration={\"episodeSteps\": 1000} #number of episodes \n",
    "        )[0][0])\n",
    "    else:\n",
    "        break\n",
    "print(rock_agent_res)\n",
    "print(len(rock_agent_res))"
   ]
  },
  {
   "cell_type": "code",
   "execution_count": 66,
   "id": "78c5fc94",
   "metadata": {},
   "outputs": [
    {
     "name": "stdout",
     "output_type": "stream",
     "text": [
      "[999.0, 0, -999.0, 38.0, 998.0, 1, 998.0, 0, 0, 0, 0, -997.0]\n",
      "12\n"
     ]
    }
   ],
   "source": [
    "agent_list = ['rock_agent.py', 'paper_agent.py', 'scissors_agent.py', 'alt_random_agent.py', 'anti_shuffle_agent.py',\n",
    "             'copy_opponent.py', 'loser_agent.py', 'oppose_agent.py', 'random_agent.py', 'reverse_shuffle_agent.py',\n",
    "             'shuffle_agent.py', 'statistical.py']\n",
    "paper_agent_res = []\n",
    "for i in range(len(agent_list)):\n",
    "    if i < 12:\n",
    "        paper_agent_res.append(evaluate(\n",
    "        \"rps\", #environment to use - no need to change\n",
    "        [agent_list[1], agent_list[0+i]], #agents to evaluate\n",
    "        configuration={\"episodeSteps\": 1000} #number of episodes \n",
    "        )[0][0])\n",
    "    else:\n",
    "        break\n",
    "print(paper_agent_res)\n",
    "print(len(paper_agent_res))"
   ]
  },
  {
   "cell_type": "code",
   "execution_count": 65,
   "id": "3d139aad",
   "metadata": {},
   "outputs": [
    {
     "name": "stdout",
     "output_type": "stream",
     "text": [
      "[-999.0, 999.0, 0, -22.0, 999.0, 1, 998.0, 21.0, 0, 0, 0, -999.0]\n",
      "12\n"
     ]
    }
   ],
   "source": [
    "agent_list = ['rock_agent.py', 'paper_agent.py', 'scissors_agent.py', 'alt_random_agent.py', 'anti_shuffle_agent.py',\n",
    "             'copy_opponent.py', 'loser_agent.py', 'oppose_agent.py', 'random_agent.py', 'reverse_shuffle_agent.py',\n",
    "             'shuffle_agent.py', 'statistical.py']\n",
    "scissors_agent_res = []\n",
    "for i in range(len(agent_list)):\n",
    "    if i < 12:\n",
    "        scissors_agent_res.append(evaluate(\n",
    "        \"rps\", #environment to use - no need to change\n",
    "        [agent_list[2], agent_list[0+i]], #agents to evaluate\n",
    "        configuration={\"episodeSteps\": 1000} #number of episodes \n",
    "        )[0][0])\n",
    "    else:\n",
    "        break\n",
    "print(scissors_agent_res)\n",
    "print(len(scissors_agent_res))"
   ]
  },
  {
   "cell_type": "code",
   "execution_count": 64,
   "id": "761aaa59",
   "metadata": {},
   "outputs": [
    {
     "name": "stdout",
     "output_type": "stream",
     "text": [
      "[0, -40.0, 0, -37.0, 0, 1, 24.0, 0, -43.0, -34.0, -47.0, 29.0]\n",
      "12\n"
     ]
    }
   ],
   "source": [
    "agent_list = ['rock_agent.py', 'paper_agent.py', 'scissors_agent.py', 'alt_random_agent.py', 'anti_shuffle_agent.py',\n",
    "             'copy_opponent.py', 'loser_agent.py', 'oppose_agent.py', 'random_agent.py', 'reverse_shuffle_agent.py',\n",
    "             'shuffle_agent.py', 'statistical.py']\n",
    "alt_random_agent_res = []\n",
    "for i in range(len(agent_list)):\n",
    "    if i < 12:\n",
    "        alt_random_agent_res.append(evaluate(\n",
    "        \"rps\", #environment to use - no need to change\n",
    "        [agent_list[3], agent_list[0+i]], #agents to evaluate\n",
    "        configuration={\"episodeSteps\": 1000} #number of episodes \n",
    "        )[0][0])\n",
    "    else:\n",
    "        break\n",
    "print(alt_random_agent_res)\n",
    "print(len(alt_random_agent_res))"
   ]
  },
  {
   "cell_type": "code",
   "execution_count": 63,
   "id": "4faba7e0",
   "metadata": {},
   "outputs": [
    {
     "name": "stdout",
     "output_type": "stream",
     "text": [
      "[-997.0, -998.0, -999.0, 0, 0, 1, 0, 37.0, 35.0, 0, 999.0, -996.0]\n",
      "12\n"
     ]
    }
   ],
   "source": [
    "agent_list = ['rock_agent.py', 'paper_agent.py', 'scissors_agent.py', 'alt_random_agent.py', 'anti_shuffle_agent.py',\n",
    "             'copy_opponent.py', 'loser_agent.py', 'oppose_agent.py', 'random_agent.py', 'reverse_shuffle_agent.py',\n",
    "             'shuffle_agent.py', 'statistical.py']\n",
    "anti_shuffle_agent_res = []\n",
    "for i in range(len(agent_list)):\n",
    "    if i < 12:\n",
    "        anti_shuffle_agent_res.append(evaluate(\n",
    "        \"rps\", #environment to use - no need to change\n",
    "        [agent_list[4], agent_list[0+i]], #agents to evaluate\n",
    "        configuration={\"episodeSteps\": 1000} #number of episodes \n",
    "        )[0][0])\n",
    "    else:\n",
    "        break\n",
    "print(anti_shuffle_agent_res)\n",
    "print(len(anti_shuffle_agent_res))"
   ]
  },
  {
   "cell_type": "code",
   "execution_count": 70,
   "id": "8ee6a369",
   "metadata": {},
   "outputs": [
    {
     "name": "stdout",
     "output_type": "stream",
     "text": [
      "[0, 0, 0, 0, 500.0, 0, 500.0, 0, 0, 998.0, -999.0, -200.0]\n",
      "12\n"
     ]
    }
   ],
   "source": [
    "agent_list = ['rock_agent.py', 'paper_agent.py', 'scissors_agent.py', 'alt_random_agent.py', 'anti_shuffle_agent.py',\n",
    "             'copy_opponent.py', 'loser_agent.py', 'oppose_agent.py', 'random_agent.py', 'reverse_shuffle_agent.py',\n",
    "             'shuffle_agent.py', 'statistical.py']\n",
    "copy_opponent_res = []\n",
    "for i in range(len(agent_list)):\n",
    "    if i < 12:\n",
    "        copy_opponent_res.append(evaluate(\n",
    "        \"rps\", #environment to use - no need to change\n",
    "        [agent_list[5], agent_list[0+i]], #agents to evaluate\n",
    "        configuration={\"episodeSteps\": 1000} #number of episodes \n",
    "        )[0][0])\n",
    "    else:\n",
    "        break\n",
    "print(copy_opponent_res)\n",
    "print(len(copy_opponent_res))"
   ]
  },
  {
   "cell_type": "code",
   "execution_count": 71,
   "id": "acb94585",
   "metadata": {},
   "outputs": [
    {
     "name": "stdout",
     "output_type": "stream",
     "text": [
      "[-998.0, -998.0, -999.0, 22.0, 0, 999.0, 0, 0, 0, 0, 997.0, -996.0]\n",
      "12\n"
     ]
    }
   ],
   "source": [
    "agent_list = ['rock_agent.py', 'paper_agent.py', 'scissors_agent.py', 'alt_random_agent.py', 'anti_shuffle_agent.py',\n",
    "             'copy_opponent.py', 'loser_agent.py', 'oppose_agent.py', 'random_agent.py', 'reverse_shuffle_agent.py',\n",
    "             'shuffle_agent.py', 'statistical.py']\n",
    "loser_agent_res = []\n",
    "for i in range(len(agent_list)):\n",
    "    if i < 12:\n",
    "        loser_agent_res.append(evaluate(\n",
    "        \"rps\", #environment to use - no need to change\n",
    "        [agent_list[6], agent_list[0+i]], #agents to evaluate\n",
    "        configuration={\"episodeSteps\": 1000} #number of episodes \n",
    "        )[0][0])\n",
    "    else:\n",
    "        break\n",
    "print(loser_agent_res)\n",
    "print(len(loser_agent_res))"
   ]
  },
  {
   "cell_type": "code",
   "execution_count": 72,
   "id": "6c56ce67",
   "metadata": {},
   "outputs": [
    {
     "name": "stdout",
     "output_type": "stream",
     "text": [
      "[0, 0, 42.0, -47.0, -21.0, 0, 0, -27.0, 0, -489.0, 478.0, 0]\n",
      "12\n"
     ]
    }
   ],
   "source": [
    "agent_list = ['rock_agent.py', 'paper_agent.py', 'scissors_agent.py', 'alt_random_agent.py', 'anti_shuffle_agent.py',\n",
    "             'copy_opponent.py', 'loser_agent.py', 'oppose_agent.py', 'random_agent.py', 'reverse_shuffle_agent.py',\n",
    "             'shuffle_agent.py', 'statistical.py']\n",
    "oppose_agent_res = []\n",
    "for i in range(len(agent_list)):\n",
    "    if i < 12:\n",
    "        oppose_agent_res.append(evaluate(\n",
    "        \"rps\", #environment to use - no need to change\n",
    "        [agent_list[7], agent_list[0+i]], #agents to evaluate\n",
    "        configuration={\"episodeSteps\": 1000} #number of episodes \n",
    "        )[0][0])\n",
    "    else:\n",
    "        break\n",
    "print(oppose_agent_res)\n",
    "print(len(oppose_agent_res))"
   ]
  },
  {
   "cell_type": "code",
   "execution_count": 73,
   "id": "9f80bd0d",
   "metadata": {},
   "outputs": [
    {
     "name": "stdout",
     "output_type": "stream",
     "text": [
      "[0, 0, 46.0, -52.0, 0, -29.0, 0, -20.0, 0, 0, 35.0, 0]\n",
      "12\n"
     ]
    }
   ],
   "source": [
    "agent_list = ['rock_agent.py', 'paper_agent.py', 'scissors_agent.py', 'alt_random_agent.py', 'anti_shuffle_agent.py',\n",
    "             'copy_opponent.py', 'loser_agent.py', 'oppose_agent.py', 'random_agent.py', 'reverse_shuffle_agent.py',\n",
    "             'shuffle_agent.py', 'statistical.py']\n",
    "random_agent_res = []\n",
    "for i in range(len(agent_list)):\n",
    "    if i < 12:\n",
    "        random_agent_res.append(evaluate(\n",
    "        \"rps\", #environment to use - no need to change\n",
    "        [agent_list[8], agent_list[0+i]], #agents to evaluate\n",
    "        configuration={\"episodeSteps\": 1000} #number of episodes \n",
    "        )[0][0])\n",
    "    else:\n",
    "        break\n",
    "print(random_agent_res)\n",
    "print(len(random_agent_res))"
   ]
  },
  {
   "cell_type": "code",
   "execution_count": 74,
   "id": "9d561c50",
   "metadata": {},
   "outputs": [
    {
     "name": "stdout",
     "output_type": "stream",
     "text": [
      "[0, 0, 0, 38.0, 0, -999.0, 0, 485.0, 0, 0, 0, 0]\n",
      "12\n"
     ]
    }
   ],
   "source": [
    "agent_list = ['rock_agent.py', 'paper_agent.py', 'scissors_agent.py', 'alt_random_agent.py', 'anti_shuffle_agent.py',\n",
    "             'copy_opponent.py', 'loser_agent.py', 'oppose_agent.py', 'random_agent.py', 'reverse_shuffle_agent.py',\n",
    "             'shuffle_agent.py', 'statistical.py']\n",
    "reverse_shuffle_agent_res = []\n",
    "for i in range(len(agent_list)):\n",
    "    if i < 12:\n",
    "        reverse_shuffle_agent_res.append(evaluate(\n",
    "        \"rps\", #environment to use - no need to change\n",
    "        [agent_list[9], agent_list[0+i]], #agents to evaluate\n",
    "        configuration={\"episodeSteps\": 1000} #number of episodes \n",
    "        )[0][0])\n",
    "    else:\n",
    "        break\n",
    "print(reverse_shuffle_agent_res)\n",
    "print(len(reverse_shuffle_agent_res))"
   ]
  },
  {
   "cell_type": "code",
   "execution_count": 75,
   "id": "d2573e9a",
   "metadata": {},
   "outputs": [
    {
     "name": "stdout",
     "output_type": "stream",
     "text": [
      "[0, 0, 0, 29.0, -999.0, 997.0, -997.0, -493.0, 0, 0, 0, 0]\n",
      "12\n"
     ]
    }
   ],
   "source": [
    "agent_list = ['rock_agent.py', 'paper_agent.py', 'scissors_agent.py', 'alt_random_agent.py', 'anti_shuffle_agent.py',\n",
    "             'copy_opponent.py', 'loser_agent.py', 'oppose_agent.py', 'random_agent.py', 'reverse_shuffle_agent.py',\n",
    "             'shuffle_agent.py', 'statistical.py']\n",
    "shuffle_agent_res = []\n",
    "for i in range(len(agent_list)):\n",
    "    if i < 12:\n",
    "        shuffle_agent_res.append(evaluate(\n",
    "        \"rps\", #environment to use - no need to change\n",
    "        [agent_list[10], agent_list[0+i]], #agents to evaluate\n",
    "        configuration={\"episodeSteps\": 1000} #number of episodes \n",
    "        )[0][0])\n",
    "    else:\n",
    "        break\n",
    "print(shuffle_agent_res)\n",
    "print(len(shuffle_agent_res))"
   ]
  },
  {
   "cell_type": "code",
   "execution_count": 76,
   "id": "2c962654",
   "metadata": {},
   "outputs": [
    {
     "name": "stdout",
     "output_type": "stream",
     "text": [
      "[998.0, 997.0, 999.0, 31.0, 996.0, 200.0, 999.0, 0, 0, 0, 0, 0]\n",
      "12\n"
     ]
    }
   ],
   "source": [
    "agent_list = ['rock_agent.py', 'paper_agent.py', 'scissors_agent.py', 'alt_random_agent.py', 'anti_shuffle_agent.py',\n",
    "             'copy_opponent.py', 'loser_agent.py', 'oppose_agent.py', 'random_agent.py', 'reverse_shuffle_agent.py',\n",
    "             'shuffle_agent.py', 'statistical.py']\n",
    "statistical_res = []\n",
    "for i in range(len(agent_list)):\n",
    "    if i < 12:\n",
    "        statistical_res.append(evaluate(\n",
    "        \"rps\", #environment to use - no need to change\n",
    "        [agent_list[11], agent_list[0+i]], #agents to evaluate\n",
    "        configuration={\"episodeSteps\": 1000} #number of episodes \n",
    "        )[0][0])\n",
    "    else:\n",
    "        break\n",
    "print(statistical_res)\n",
    "print(len(statistical_res))"
   ]
  },
  {
   "cell_type": "code",
   "execution_count": null,
   "id": "ca557812",
   "metadata": {},
   "outputs": [],
   "source": [
    "###\n",
    "Лучше всего себя показал статистический агент, который учитывает предыдущие шаги оппонента на дистанции.\n",
    "Рандомные агенты (random_agent.py, alt_random_agent.py) показали себя вполне неплохо на длинной дистанции.\n",
    "Хуже всего себя показал loser_agent.py ведь он специально создан для того чтобы давать наиболее удобные условия оппоненту,\n",
    "однако он не справился с двумя агентами shuffle_agent.py и reverse_agent.py которые полностью игнорируют действия оппонента и\n",
    "выдают камень, ножницы и бумагу по очереди, с разницей лишь в порядке.\n",
    "###"
   ]
  }
 ],
 "metadata": {
  "kernelspec": {
   "display_name": "Python 3 (ipykernel)",
   "language": "python",
   "name": "python3"
  },
  "language_info": {
   "codemirror_mode": {
    "name": "ipython",
    "version": 3
   },
   "file_extension": ".py",
   "mimetype": "text/x-python",
   "name": "python",
   "nbconvert_exporter": "python",
   "pygments_lexer": "ipython3",
   "version": "3.8.8"
  }
 },
 "nbformat": 4,
 "nbformat_minor": 5
}
